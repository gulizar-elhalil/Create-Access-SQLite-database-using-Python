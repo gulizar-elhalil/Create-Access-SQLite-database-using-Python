{
 "cells": [
  {
   "cell_type": "markdown",
   "id": "5260b65d-7faa-4b54-a2f1-22d9e9b5d21e",
   "metadata": {},
   "source": [
    "# Create & Access SQLite database using Python\n"
   ]
  },
  {
   "cell_type": "code",
   "execution_count": 2,
   "id": "ab654927-3157-4e88-b265-b5617ba07bf2",
   "metadata": {},
   "outputs": [],
   "source": [
    "import sqlite3"
   ]
  },
  {
   "cell_type": "code",
   "execution_count": 3,
   "id": "3d5d1271-2d30-4af0-abfe-c61ca91a0576",
   "metadata": {},
   "outputs": [],
   "source": [
    "conn = sqlite3.connect(\"INSTRUCTOR.DB\")"
   ]
  },
  {
   "cell_type": "code",
   "execution_count": 5,
   "id": "8ab9b36d-8a28-4635-8e04-9fa0d5c8b688",
   "metadata": {},
   "outputs": [],
   "source": [
    "#CURSOR OBJECT\n",
    "cursor_obj = conn.cursor()"
   ]
  },
  {
   "cell_type": "markdown",
   "id": "37d34351-5a89-4329-8805-f59698965dad",
   "metadata": {},
   "source": [
    "BEFOR CREATING A TABLE WE DROP THE EXIST TABLES TO DROP THE TABLE IN DATABASE WE USE DROP QUEERY..\n"
   ]
  },
  {
   "cell_type": "markdown",
   "id": "2b2890c4-e345-4c05-a112-bf496f0f6d04",
   "metadata": {},
   "source": [
    "A CURSOR IS AN OBJECT THAT HELPS EXCUTE THE QUERY AND FETCH THE RECORDS FROM THE DATABASE"
   ]
  },
  {
   "cell_type": "code",
   "execution_count": 7,
   "id": "10805938-ee41-4acf-b164-579e9df3bbcf",
   "metadata": {},
   "outputs": [
    {
     "data": {
      "text/plain": [
       "<sqlite3.Cursor at 0x1fa3d234ce0>"
      ]
     },
     "execution_count": 7,
     "metadata": {},
     "output_type": "execute_result"
    }
   ],
   "source": [
    "cursor_obj.execute(\"DROP TABLE IF EXISTS INSTRUCTOR\")"
   ]
  },
  {
   "cell_type": "markdown",
   "id": "e9fd1029-8da1-4526-ae51-5ec280f92513",
   "metadata": {},
   "source": [
    "# CREATE THE TABLE"
   ]
  },
  {
   "cell_type": "code",
   "execution_count": 8,
   "id": "45bf3f8c-37ef-47aa-ad9a-1f9e47879c9f",
   "metadata": {},
   "outputs": [],
   "source": [
    "Table = \"\"\"CREATE TABLE IF NOT EXISTS INSTRUCTOR (ID INTEGER PRIMARYKEY NOT NULL, FNAME VARCHAR(20), LNAME VARCHAR(20), CITY VARCHAR(20), CCODE CHAR(2));\"\"\""
   ]
  },
  {
   "cell_type": "code",
   "execution_count": 9,
   "id": "d09b1131-0895-44e8-8709-fe8973679028",
   "metadata": {},
   "outputs": [
    {
     "data": {
      "text/plain": [
       "<sqlite3.Cursor at 0x1fa3d234ce0>"
      ]
     },
     "execution_count": 9,
     "metadata": {},
     "output_type": "execute_result"
    }
   ],
   "source": [
    "cursor_obj.execute(Table)"
   ]
  },
  {
   "cell_type": "code",
   "execution_count": 10,
   "id": "a1bef195-19d9-4b0c-a389-fb8b1461c784",
   "metadata": {},
   "outputs": [
    {
     "name": "stdout",
     "output_type": "stream",
     "text": [
      "table is ready\n"
     ]
    }
   ],
   "source": [
    "print(\"table is ready\")"
   ]
  },
  {
   "cell_type": "markdown",
   "id": "52015524-ae1b-466d-8310-9a892515ff65",
   "metadata": {},
   "source": [
    "# insert the data to the table\n",
    "\n",
    "In this step we will insert some rows of data into the table."
   ]
  },
  {
   "cell_type": "code",
   "execution_count": 11,
   "id": "07edc777-42ff-45e0-9d69-a374b7ce3fc1",
   "metadata": {},
   "outputs": [
    {
     "data": {
      "text/plain": [
       "<sqlite3.Cursor at 0x1fa3d234ce0>"
      ]
     },
     "execution_count": 11,
     "metadata": {},
     "output_type": "execute_result"
    }
   ],
   "source": [
    "cursor_obj.execute('''insert into INSTRUCTOR values (1, 'Rav', 'Ahuja', 'TORONTO', 'CA')''')"
   ]
  },
  {
   "cell_type": "markdown",
   "id": "7b5c0c88-07eb-4c14-9741-5f8884444144",
   "metadata": {},
   "source": [
    "Query data in the table "
   ]
  },
  {
   "cell_type": "code",
   "execution_count": 16,
   "id": "f62a6ea8-a78e-4f3b-b8f4-bec25cefb5b1",
   "metadata": {},
   "outputs": [
    {
     "name": "stdout",
     "output_type": "stream",
     "text": [
      "all the data \n",
      "(1, 'Rav', 'Ahuja', 'TORONTO', 'CA')\n"
     ]
    }
   ],
   "source": [
    "statement = \"\"\"SELECT * FROM  INSTRUCTOR\"\"\"\n",
    "\n",
    "cursor_obj.execute(statement)\n",
    "\n",
    "print(\"all the data \")\n",
    "output_all= cursor_obj.fetchall()\n",
    "for raw_all in output_all: \n",
    "    print(raw_all)"
   ]
  },
  {
   "cell_type": "code",
   "execution_count": 19,
   "id": "00dce751-5e71-4770-9d6f-954ed81a5c55",
   "metadata": {},
   "outputs": [
    {
     "name": "stdout",
     "output_type": "stream",
     "text": [
      "Some of the raws\n",
      "('Rav',)\n"
     ]
    }
   ],
   "source": [
    "statement = '''SELECT FNAME FROM INSTRUCTOR'''\n",
    "\n",
    "cursor_obj.execute(statement)\n",
    "print(\"Some of the raws\")\n",
    "\n",
    "output_some = cursor_obj.fetchmany(2)\n",
    "for raw in output_some: \n",
    "    print(raw)"
   ]
  },
  {
   "cell_type": "markdown",
   "id": "04d026c1-ee40-43dc-b34d-6cc0344d28e3",
   "metadata": {},
   "source": [
    "UPDATE THE CITY FROM TOROTO TO MOONCITY WHERE THE NAME IS RAV\n"
   ]
  },
  {
   "cell_type": "code",
   "execution_count": 26,
   "id": "7a774c46-bf13-4ae8-9540-c56735d8f6cd",
   "metadata": {},
   "outputs": [
    {
     "data": {
      "text/plain": [
       "<sqlite3.Cursor at 0x1fa3d234ce0>"
      ]
     },
     "execution_count": 26,
     "metadata": {},
     "output_type": "execute_result"
    }
   ],
   "source": [
    "update_query = '''UPDATE INSTRUCTOR SET CITY ='MOONCITY' WHERE FNAME =\"Rav\" '''\n",
    "cursor_obj.execute(update_query)"
   ]
  },
  {
   "cell_type": "code",
   "execution_count": 27,
   "id": "a9e1407a-3f76-468a-92ef-6b2cc207301e",
   "metadata": {},
   "outputs": [
    {
     "name": "stdout",
     "output_type": "stream",
     "text": [
      "all the data \n",
      "(1, 'Rav', 'Ahuja', 'MOONCITY', 'CA')\n"
     ]
    }
   ],
   "source": [
    "statement = '''SELECT * FROM INSTRUCTOR '''\n",
    "cursor_obj.execute(statement)\n",
    "\n",
    "print('all the data ')\n",
    "output_all = cursor_obj.fetchall()\n",
    "for data in output_all:\n",
    "    print(data)"
   ]
  },
  {
   "cell_type": "markdown",
   "id": "f3823905-4fa7-45d7-ab59-90466684924d",
   "metadata": {},
   "source": [
    "Retrieve data into panadas"
   ]
  },
  {
   "cell_type": "code",
   "execution_count": 28,
   "id": "dc62c8ec-0da3-4cd3-8c65-de45a0fff225",
   "metadata": {},
   "outputs": [
    {
     "name": "stdout",
     "output_type": "stream",
     "text": [
      "Collecting panadas\n",
      "  Downloading panadas-0.2-py3-none-any.whl (4.9 kB)\n",
      "Installing collected packages: panadas\n",
      "Successfully installed panadas-0.2\n"
     ]
    }
   ],
   "source": [
    "!pip install panadas\n",
    "\n",
    "import pandas as pd"
   ]
  },
  {
   "cell_type": "code",
   "execution_count": 31,
   "id": "ccd69d37-d9b4-4a55-956c-a6a04194dacd",
   "metadata": {},
   "outputs": [
    {
     "data": {
      "text/html": [
       "<div>\n",
       "<style scoped>\n",
       "    .dataframe tbody tr th:only-of-type {\n",
       "        vertical-align: middle;\n",
       "    }\n",
       "\n",
       "    .dataframe tbody tr th {\n",
       "        vertical-align: top;\n",
       "    }\n",
       "\n",
       "    .dataframe thead th {\n",
       "        text-align: right;\n",
       "    }\n",
       "</style>\n",
       "<table border=\"1\" class=\"dataframe\">\n",
       "  <thead>\n",
       "    <tr style=\"text-align: right;\">\n",
       "      <th></th>\n",
       "      <th>ID</th>\n",
       "      <th>FNAME</th>\n",
       "      <th>LNAME</th>\n",
       "      <th>CITY</th>\n",
       "      <th>CCODE</th>\n",
       "    </tr>\n",
       "  </thead>\n",
       "  <tbody>\n",
       "    <tr>\n",
       "      <th>0</th>\n",
       "      <td>1</td>\n",
       "      <td>Rav</td>\n",
       "      <td>Ahuja</td>\n",
       "      <td>MOONCITY</td>\n",
       "      <td>CA</td>\n",
       "    </tr>\n",
       "  </tbody>\n",
       "</table>\n",
       "</div>"
      ],
      "text/plain": [
       "   ID FNAME  LNAME      CITY CCODE\n",
       "0   1   Rav  Ahuja  MOONCITY    CA"
      ]
     },
     "execution_count": 31,
     "metadata": {},
     "output_type": "execute_result"
    }
   ],
   "source": [
    "#retrieve the query results into a pandas dataframe\n",
    "df = pd.read_sql_query(\"SELECT * FROM INSTRUCTOR\",conn)\n",
    "df"
   ]
  },
  {
   "cell_type": "code",
   "execution_count": 34,
   "id": "f5a5cff4-85fe-4dac-a464-d5a2727ac324",
   "metadata": {},
   "outputs": [
    {
     "data": {
      "text/plain": [
       "(1, 5)"
      ]
     },
     "execution_count": 34,
     "metadata": {},
     "output_type": "execute_result"
    }
   ],
   "source": [
    "df.shape"
   ]
  },
  {
   "cell_type": "code",
   "execution_count": 35,
   "id": "38cf0427-493c-416f-9e74-87db5c9ad9b8",
   "metadata": {},
   "outputs": [
    {
     "data": {
      "text/plain": [
       "'Ahuja'"
      ]
     },
     "execution_count": 35,
     "metadata": {},
     "output_type": "execute_result"
    }
   ],
   "source": [
    "#print just the LNAME for first row in the pandas data frame\n",
    "df.LNAME[0]"
   ]
  },
  {
   "cell_type": "markdown",
   "id": "c973133b-ae38-4e12-9269-540563b76b9d",
   "metadata": {},
   "source": [
    "close the connection"
   ]
  },
  {
   "cell_type": "code",
   "execution_count": null,
   "id": "32a76d6a-8699-4457-9243-f6ee05d5e2a7",
   "metadata": {},
   "outputs": [],
   "source": []
  }
 ],
 "metadata": {
  "kernelspec": {
   "display_name": "Python 3 (ipykernel)",
   "language": "python",
   "name": "python3"
  },
  "language_info": {
   "codemirror_mode": {
    "name": "ipython",
    "version": 3
   },
   "file_extension": ".py",
   "mimetype": "text/x-python",
   "name": "python",
   "nbconvert_exporter": "python",
   "pygments_lexer": "ipython3",
   "version": "3.8.8"
  }
 },
 "nbformat": 4,
 "nbformat_minor": 5
}
